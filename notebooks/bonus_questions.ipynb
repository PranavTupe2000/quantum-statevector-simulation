{
 "cells": [
  {
   "cell_type": "markdown",
   "metadata": {},
   "source": [
    "# Sampling and Expectation Values\n",
    "\n",
    "In this notbook we will work on the bonus questions of screening Task 1:\n",
    "- How would you sample from the final states in the statevector or tensor representations? \n",
    "- How about computing exact expectation values in the form <Ψ| Op |Ψ>?"
   ]
  },
  {
   "cell_type": "markdown",
   "metadata": {},
   "source": [
    "### Table of content\n",
    "\n",
    "- [Packages](#0)\n",
    "- [1. Sampling from Final States](#1)\n",
    "- [2. Expectation Values](#2)"
   ]
  },
  {
   "cell_type": "markdown",
   "metadata": {},
   "source": [
    "<a name='0'></a>\n",
    "### Packages\n",
    "\n",
    "Before we begin, we will add the src directory in sys.paths so that we can import the code from it. "
   ]
  },
  {
   "cell_type": "code",
   "execution_count": 1,
   "metadata": {},
   "outputs": [],
   "source": [
    "import sys\n",
    "import os\n",
    "\n",
    "# Add the src directory to sys.path\n",
    "sys.path.append(os.path.abspath(os.path.join(os.getcwd(), '../src')))"
   ]
  },
  {
   "cell_type": "markdown",
   "metadata": {},
   "source": [
    "Importing all the necessary packages"
   ]
  },
  {
   "cell_type": "code",
   "execution_count": 2,
   "metadata": {},
   "outputs": [],
   "source": [
    "import numpy as np\n",
    "import matplotlib.pyplot as plt\n",
    "\n",
    "from gates import Gates\n",
    "from matrix_simulation import NaiveQuantumCircuit\n",
    "from tensor_simulation import AdvanceQuantumCircuit\n",
    "\n",
    "# Set random seed for reproducibility\n",
    "np.random.seed(1)"
   ]
  },
  {
   "cell_type": "markdown",
   "metadata": {},
   "source": [
    "<a name='1'></a>\n",
    "### 1. Sampling from Final States\n",
    "\n",
    "For this we will use `measure()` function of matrix and tensor simulators defined in their respective class definitions. The function squares the amplitudes of the states to get their respective probabilities. Based on those probabilities, we randomly select a state.\n",
    "\n",
    "In the following function `sample_final_states(circuit, num_samples)` we will use `measure()` num_samples times. We will collect the frequnceis of each states and later plot them in bar graph. "
   ]
  },
  {
   "cell_type": "code",
   "execution_count": 3,
   "metadata": {},
   "outputs": [],
   "source": [
    "def sample_final_states(circuit, num_samples):\n",
    "    results = []\n",
    "    for _ in range(num_samples):\n",
    "        result = circuit.measure()\n",
    "        results.append(result)\n",
    "    \n",
    "    # Calculate frequencies of each state\n",
    "    unique, counts = np.unique(results, return_counts=True)\n",
    "    frequencies = dict(zip(unique, counts))\n",
    "    return frequencies\n"
   ]
  },
  {
   "cell_type": "markdown",
   "metadata": {},
   "source": [
    "The following function `plot_final_state(matrix_samples, tensor_samples)` will take the frequencies of final states, and then plot it in a bar graph. "
   ]
  },
  {
   "cell_type": "code",
   "execution_count": 4,
   "metadata": {},
   "outputs": [],
   "source": [
    "def plot_final_state(matrix_samples, tensor_samples):\n",
    "    _, axes = plt.subplots(1, 2, figsize=(14, 6))\n",
    "    axes[0].bar(matrix_samples.keys(), matrix_samples.values(), color=\"skyblue\")\n",
    "    axes[0].set_title(\"Matrix Simulator Sampling Results\")\n",
    "    axes[0].set_xlabel(\"State\")\n",
    "    axes[0].set_ylabel(\"Frequency\")\n",
    "\n",
    "    axes[1].bar(tensor_samples.keys(), tensor_samples.values(), color=\"salmon\")\n",
    "    axes[1].set_title(\"Tensor Simulator Sampling Results\")\n",
    "    axes[1].set_xlabel(\"State\")\n",
    "    axes[1].set_ylabel(\"Frequency\")\n",
    "\n",
    "    plt.tight_layout()\n",
    "    plt.show()"
   ]
  },
  {
   "cell_type": "markdown",
   "metadata": {},
   "source": [
    "##### Bell's state\n",
    "\n",
    "Now let's measure the final state of Bell's state. For |Φ+>, we have 50-50 probability of |00> and |11>. Let see whether our results get close to this.\n",
    "\n",
    "Here we will measure the state 5000 times and then plot the results."
   ]
  },
  {
   "cell_type": "code",
   "execution_count": 5,
   "metadata": {},
   "outputs": [
    {
     "data": {
      "image/png": "[encoded data removed]",
      "text/plain": [
       "<Figure size 1008x432 with 2 Axes>"
      ]
     },
     "metadata": {
      "needs_background": "light"
     },
     "output_type": "display_data"
    }
   ],
   "source": [
    "# Parameters\n",
    "num_qubits = 2\n",
    "num_samples = 5000\n",
    "\n",
    "# Initialize circuits\n",
    "naive_circuit = NaiveQuantumCircuit(num_qubits)\n",
    "advance_circuit = AdvanceQuantumCircuit(num_qubits)\n",
    "\n",
    "# Create Bell's state (|Φ+>)\n",
    "naive_circuit.apply_single_qubit_gate(Gates.H,0)\n",
    "naive_circuit.apply_cnot_gate(0,1)\n",
    "advance_circuit.apply_single_qubit_gate(Gates.H,0)\n",
    "advance_circuit.apply_cnot_gate(0,1)\n",
    "\n",
    "# Sample from the final states for both simulators\n",
    "matrix_samples = sample_final_states(naive_circuit, num_samples)\n",
    "tensor_samples = sample_final_states(advance_circuit, num_samples)\n",
    "\n",
    "# Plotting the sampling results\n",
    "plot_final_state(matrix_samples, tensor_samples)"
   ]
  },
  {
   "cell_type": "markdown",
   "metadata": {},
   "source": [
    "As you can see here, for both simulators we have almost 50-50 chances of |00> and |11> states."
   ]
  },
  {
   "cell_type": "markdown",
   "metadata": {},
   "source": [
    "Now let's check for |ψ+> were we have 50-50 chance of |01> and |01>"
   ]
  },
  {
   "cell_type": "code",
   "execution_count": 6,
   "metadata": {},
   "outputs": [
    {
     "data": {
      "image/png": "[encoded data removed]",
      "text/plain": [
       "<Figure size 1008x432 with 2 Axes>"
      ]
     },
     "metadata": {
      "needs_background": "light"
     },
     "output_type": "display_data"
    }
   ],
   "source": [
    "# Parameters\n",
    "num_qubits = 2\n",
    "num_samples = 5000\n",
    "\n",
    "# Initialize circuits\n",
    "naive_circuit = NaiveQuantumCircuit(num_qubits)\n",
    "advance_circuit = AdvanceQuantumCircuit(num_qubits)\n",
    "\n",
    "# Create Bell's state (|ψ+>)\n",
    "naive_circuit.apply_single_qubit_gate(Gates.X, 1)\n",
    "naive_circuit.apply_single_qubit_gate(Gates.H,0)\n",
    "naive_circuit.apply_cnot_gate(0,1)\n",
    "advance_circuit.apply_single_qubit_gate(Gates.X, 1)\n",
    "advance_circuit.apply_single_qubit_gate(Gates.H,0)\n",
    "advance_circuit.apply_cnot_gate(0,1)\n",
    "\n",
    "# Sample from the final states for both simulators\n",
    "matrix_samples = sample_final_states(naive_circuit, num_samples)\n",
    "tensor_samples = sample_final_states(advance_circuit, num_samples)\n",
    "\n",
    "# Plotting the sampling results\n",
    "plot_final_state(matrix_samples, tensor_samples)"
   ]
  },
  {
   "cell_type": "markdown",
   "metadata": {},
   "source": [
    "From the above diagrams, we can say that our measurement works as expected."
   ]
  },
  {
   "cell_type": "markdown",
   "metadata": {},
   "source": [
    "##### 3-Qubit Circuit with Hadamard Gates \n",
    "\n",
    "Now let's take measurement of a circuit with 3 qubits, each qubit applied with Hadamard gate. This circuit will have equal probabilities of the states:\n",
    "\n",
    "|000>, |001>, |010>, |011>, |100>, |101>, |1010>, |111>\n",
    "\n",
    "We will be measuring for 5000 times. So the circuit must output each of the above state close to 5000/8 = **625** times, after the measurments are performed. "
   ]
  },
  {
   "cell_type": "code",
   "execution_count": 7,
   "metadata": {},
   "outputs": [
    {
     "data": {
      "image/png": "[encoded data removed]",
      "text/plain": [
       "<Figure size 1008x432 with 2 Axes>"
      ]
     },
     "metadata": {
      "needs_background": "light"
     },
     "output_type": "display_data"
    }
   ],
   "source": [
    "# Parameters\n",
    "num_qubits = 3\n",
    "num_samples = 5000\n",
    "\n",
    "# Initialize circuits\n",
    "naive_circuit = NaiveQuantumCircuit(num_qubits)\n",
    "advance_circuit = AdvanceQuantumCircuit(num_qubits)\n",
    "\n",
    "# Apply H gates to each qubit\n",
    "for qubit in range(num_qubits):\n",
    "    naive_circuit.apply_single_qubit_gate(Gates.H, qubit)\n",
    "    advance_circuit.apply_single_qubit_gate(Gates.H, qubit)\n",
    "\n",
    "# Sample from the final states for both simulators\n",
    "matrix_samples = sample_final_states(naive_circuit, num_samples)\n",
    "tensor_samples = sample_final_states(advance_circuit, num_samples)\n",
    "\n",
    "# Plotting the sampling results\n",
    "plot_final_state(matrix_samples, tensor_samples)"
   ]
  },
  {
   "cell_type": "markdown",
   "metadata": {},
   "source": [
    "As you can see above, we got the results close to our estimations."
   ]
  },
  {
   "cell_type": "markdown",
   "metadata": {},
   "source": [
    "<a name='2'></a>\n",
    "### 2. Expectation Values\n",
    "\n",
    "For this we will use `expectation_value(gate)` function of matrix and tensor simulators defined in their respective class definitions.\n",
    "\n",
    "The function finds the expectation value by performing ⟨Ψ|Op|Ψ⟩:\n",
    "- Expand the single-qubit gate to the operator.\n",
    "    Suppose we want to find expectation value for X gate, and it is a sytem of 3 qubits, then we will takes the gates kronecker product with itself 3 times\n",
    "\n",
    "    Op = X⊗X⊗X\n",
    "\n",
    "- Then we will apply the operator to the *Ket* state:\n",
    "\n",
    "    Op|Ψ⟩ = X⊗X⊗X|Ψ⟩\n",
    "\n",
    "- Then we will apply *Bra* of the state to it:\n",
    "\n",
    "    ⟨Ψ|Op|Ψ⟩ = ⟨Ψ|X⊗X⊗X|Ψ⟩\n",
    "\n",
    "\n",
    "\n",
    "In the following function `expectation_values_of_XYZ(matrix_circuit, tensor_circuit)` we will use `expectation_value(gate)` passing Pauli-X, Pauli-Y, and Pauli-Z gates as paramters one by one."
   ]
  },
  {
   "cell_type": "code",
   "execution_count": 8,
   "metadata": {},
   "outputs": [],
   "source": [
    "def expectation_values_of_XYZ(matrix_circuit, tensor_circuit):\n",
    "    # Define a dictionary to store results\n",
    "    expectation_results = {\n",
    "        \"Matrix Simulator\": {},\n",
    "        \"Tensor Simulator\": {}\n",
    "    }\n",
    "\n",
    "    # Compute expectation values for Pauli-X, Pauli-Y, and Pauli-Z gates\n",
    "    operators = {\"X\": Gates.X, \"Y\": Gates.Y, \"Z\": Gates.Z}\n",
    "\n",
    "    for name, op in operators.items():\n",
    "        # Matrix Simulator Expectation Values\n",
    "        expectation_results[\"Matrix Simulator\"][name] = matrix_circuit.expectation_value(op)\n",
    "        \n",
    "        # Tensor Simulator Expectation Values\n",
    "        expectation_results[\"Tensor Simulator\"][name] = tensor_circuit.expectation_value(op)\n",
    "        \n",
    "    return expectation_results"
   ]
  },
  {
   "cell_type": "markdown",
   "metadata": {},
   "source": [
    "##### Bell's State"
   ]
  },
  {
   "cell_type": "code",
   "execution_count": 14,
   "metadata": {},
   "outputs": [
    {
     "name": "stdout",
     "output_type": "stream",
     "text": [
      "Expected values for Matirx (Naive) Simulator: \n",
      "{'X': 1.0, 'Y': -1.0, 'Z': 1.0}\n",
      "Expected values for Tensor (Advance) Simulator: \n",
      "{'X': 1.0, 'Y': -1.0, 'Z': 1.0}\n"
     ]
    }
   ],
   "source": [
    "# Initialize circuits\n",
    "naive_circuit = NaiveQuantumCircuit(2)\n",
    "advance_circuit = AdvanceQuantumCircuit(2)\n",
    "\n",
    "# # Apply gates to create bell's state\n",
    "naive_circuit.apply_single_qubit_gate(Gates.H, 0)\n",
    "naive_circuit.apply_cnot_gate(0, 1)\n",
    "advance_circuit.apply_single_qubit_gate(Gates.H, 0)\n",
    "advance_circuit.apply_cnot_gate(0, 1)\n",
    "\n",
    "# Compute the expectation values\n",
    "expectation_results = expectation_values_of_XYZ(naive_circuit, advance_circuit)\n",
    "\n",
    "print(\"Expected values for Matirx (Naive) Simulator: \")\n",
    "print(expectation_results[\"Matrix Simulator\"])\n",
    "print(\"Expected values for Tensor (Advance) Simulator: \")\n",
    "print(expectation_results[\"Tensor Simulator\"])"
   ]
  },
  {
   "cell_type": "markdown",
   "metadata": {},
   "source": [
    "Let's check this result."
   ]
  },
  {
   "cell_type": "markdown",
   "metadata": {
    "vscode": {
     "languageId": "raw"
    }
   },
   "source": [
    "**For X:**\n",
    "- We have X gate.\n",
    "$$\n",
    "X = \n",
    "\\begin{bmatrix} \n",
    "0 & 1 \\\\\n",
    "1 & 0 \\\\\n",
    "\\end{bmatrix}\n",
    "\\quad\n",
    "$$\n",
    "\n",
    "- As we have 2-qubit system, we will check expectation value of X for both the qubits. We will expand it.\n",
    "\n",
    "$$\n",
    "X⊗X = \n",
    "\\begin{bmatrix} \n",
    "0 & 1 \\\\\n",
    "1 & 0 \\\\\n",
    "\\end{bmatrix}\n",
    "⊗\n",
    "\\begin{bmatrix} \n",
    "0 & 1 \\\\\n",
    "1 & 0 \\\\\n",
    "\\end{bmatrix}\n",
    "\\quad\n",
    "$$\n",
    "\n",
    "$$\n",
    "Op = X⊗X = \n",
    "\\begin{bmatrix} \n",
    "0 & 0 & 0 & 1 \\\\\n",
    "0 & 0 & 1 & 0 \\\\\n",
    "0 & 1 & 0 & 0 \\\\\n",
    "1 & 0 & 0 & 0 \\\\\n",
    "\\end{bmatrix}\n",
    "\\quad\n",
    "$$\n",
    "\n",
    "- Now we will apply this operator to Ket of bell's state\n",
    "\n",
    "$$\n",
    "Op|ψ> = X⊗X|ψ> = \n",
    "\\begin{bmatrix} \n",
    "0 & 0 & 0 & 1 \\\\\n",
    "0 & 0 & 1 & 0 \\\\\n",
    "0 & 1 & 0 & 0 \\\\\n",
    "1 & 0 & 0 & 0 \\\\\n",
    "\\end{bmatrix}\n",
    "\\begin{bmatrix} \n",
    "1/√2 \\\\\n",
    "0 \\\\\n",
    "0 \\\\\n",
    "1/√2 \\\\\n",
    "\\end{bmatrix}\n",
    "\\quad\n",
    "$$\n",
    "\n",
    "$$\n",
    "Op|ψ> = \n",
    "\\begin{bmatrix} \n",
    "1/√2 \\\\\n",
    "0 \\\\\n",
    "0 \\\\\n",
    "1/√2 \\\\\n",
    "\\end{bmatrix}\n",
    "\\quad\n",
    "$$\n",
    "\n",
    "- Finally we will apply Bra of bell's state to this Op|ψ>\n",
    "$$\n",
    "<ψ|Op|ψ> = \n",
    "\\begin{bmatrix} \n",
    "1/√2 & 0 & 0 & 1/√2 \\\\\n",
    "\\end{bmatrix}\n",
    "\\begin{bmatrix} \n",
    "1/√2 \\\\\n",
    "0 \\\\\n",
    "0 \\\\\n",
    "1/√2 \\\\\n",
    "\\end{bmatrix}\n",
    "\\quad\n",
    "$$\n",
    "\n",
    "$$\n",
    "<Op> = <ψ|Op|ψ> = 1/2 + 0 + 0 + 1/2\n",
    "$$\n",
    "\n",
    "$$\n",
    "<Op> = 1\n",
    "$$"
   ]
  },
  {
   "cell_type": "markdown",
   "metadata": {},
   "source": [
    "**For Y:**\n",
    "- We have Y gate.\n",
    "$$\n",
    "Y = \n",
    "\\begin{bmatrix} \n",
    "0 & -i \\\\\n",
    "i & 0 \\\\\n",
    "\\end{bmatrix}\n",
    "\\quad\n",
    "$$\n",
    "\n",
    "- As we have 2-qubit system, we will check expectation value of Y for both the qubits. We will expand it.\n",
    "\n",
    "$$\n",
    "Y⊗Y = \n",
    "\\begin{bmatrix} \n",
    "0 & -i \\\\\n",
    "i & 0 \\\\\n",
    "\\end{bmatrix}\n",
    "⊗\n",
    "\\begin{bmatrix} \n",
    "0 & -i \\\\\n",
    "i & 0 \\\\\n",
    "\\end{bmatrix}\n",
    "\\quad\n",
    "$$\n",
    "\n",
    "$$\n",
    "Op = Y⊗Y = \n",
    "\\begin{bmatrix} \n",
    "0 & 0 & 0 & -1 \\\\\n",
    "0 & 0 & 1 & 0 \\\\\n",
    "0 & 1 & 0 & 0 \\\\\n",
    "-1 & 0 & 0 & 0 \\\\\n",
    "\\end{bmatrix}\n",
    "\\quad\n",
    "$$\n",
    "\n",
    "- Now we will apply this operator to Ket of bell's state\n",
    "\n",
    "$$\n",
    "Op|ψ> = Y⊗Y|ψ> = \n",
    "\\begin{bmatrix} \n",
    "0 & 0 & 0 & 1 \\\\\n",
    "0 & 0 & 1 & 0 \\\\\n",
    "0 & 1 & 0 & 0 \\\\\n",
    "1 & 0 & 0 & 0 \\\\\n",
    "\\end{bmatrix}\n",
    "\\begin{bmatrix} \n",
    "1/√2 \\\\\n",
    "0 \\\\\n",
    "0 \\\\\n",
    "1/√2 \\\\\n",
    "\\end{bmatrix}\n",
    "\\quad\n",
    "$$\n",
    "\n",
    "$$\n",
    "Op|ψ> = \n",
    "\\begin{bmatrix} \n",
    "-1/√2 \\\\\n",
    "0 \\\\\n",
    "0 \\\\\n",
    "-1/√2 \\\\\n",
    "\\end{bmatrix}\n",
    "\\quad\n",
    "$$\n",
    "\n",
    "- Finally we will apply Bra of bell's state to this Op|ψ>\n",
    "$$\n",
    "<ψ|Op|ψ> = \n",
    "\\begin{bmatrix} \n",
    "1/√2 & 0 & 0 & 1/√2 \\\\\n",
    "\\end{bmatrix}\n",
    "\\begin{bmatrix} \n",
    "-1/√2 \\\\\n",
    "0 \\\\\n",
    "0 \\\\\n",
    "-1/√2 \\\\\n",
    "\\end{bmatrix}\n",
    "\\quad\n",
    "$$\n",
    "\n",
    "$$\n",
    "<Op> = -1/2 + 0 + 0 -1/2\n",
    "$$\n",
    "\n",
    "$$\n",
    "<Op> = -1\n",
    "$$"
   ]
  },
  {
   "cell_type": "markdown",
   "metadata": {},
   "source": [
    "**For Z:**\n",
    "- We have Z gate.\n",
    "$$\n",
    "Z = \n",
    "\\begin{bmatrix} \n",
    "1 & 0 \\\\\n",
    "0 & -1 \\\\\n",
    "\\end{bmatrix}\n",
    "\\quad\n",
    "$$\n",
    "\n",
    "- As we have 2-qubit system, we will check expectation value of Z for both the qubits. We will expand it.\n",
    "\n",
    "$$\n",
    "Z⊗Z = \n",
    "\\begin{bmatrix} \n",
    "1 & 0 \\\\\n",
    "0 & -1 \\\\\n",
    "\\end{bmatrix}\n",
    "⊗\n",
    "\\begin{bmatrix} \n",
    "1 & 0 \\\\\n",
    "0 & -1 \\\\\n",
    "\\end{bmatrix}\n",
    "\\quad\n",
    "$$\n",
    "\n",
    "$$\n",
    "Op = Z⊗Z = \n",
    "\\begin{bmatrix} \n",
    "1 & 0 & 0 & 1 \\\\\n",
    "0 & -1 & 0 & 0 \\\\\n",
    "0 & 0 & -1 & 0 \\\\\n",
    "0 & 0 & 0 & 1 \\\\\n",
    "\\end{bmatrix}\n",
    "\\quad\n",
    "$$\n",
    "\n",
    "- Now we will apply this operator to Ket of bell's state\n",
    "\n",
    "$$\n",
    "Op|ψ> = Z⊗Z|ψ> = \n",
    "\\begin{bmatrix} \n",
    "1 & 0 & 0 & 0 \\\\\n",
    "0 & -1 & 0 & 0 \\\\\n",
    "0 & 0 & -1 & 0 \\\\\n",
    "0 & 0 & 0 & 1 \\\\\n",
    "\\end{bmatrix}\n",
    "\\begin{bmatrix} \n",
    "1/√2 \\\\\n",
    "0 \\\\\n",
    "0 \\\\\n",
    "1/√2 \\\\\n",
    "\\end{bmatrix}\n",
    "\\quad\n",
    "$$\n",
    "\n",
    "$$\n",
    "Op|ψ> = \n",
    "\\begin{bmatrix} \n",
    "1/√2 \\\\\n",
    "0 \\\\\n",
    "0 \\\\\n",
    "1/√2 \\\\\n",
    "\\end{bmatrix}\n",
    "\\quad\n",
    "$$\n",
    "\n",
    "- Finally we will apply Bra of bell's state to this Op|ψ>\n",
    "$$\n",
    "<ψ|Op|ψ> = \n",
    "\\begin{bmatrix} \n",
    "1/√2 & 0 & 0 & 1/√2 \\\\\n",
    "\\end{bmatrix}\n",
    "\\begin{bmatrix} \n",
    "1/√2 \\\\\n",
    "0 \\\\\n",
    "0 \\\\\n",
    "1/√2 \\\\\n",
    "\\end{bmatrix}\n",
    "\\quad\n",
    "$$\n",
    "\n",
    "$$\n",
    "<Op> = 1/2 + 0 + 0 + 1/2\n",
    "$$\n",
    "\n",
    "$$\n",
    "<Op> = 1\n",
    "$$"
   ]
  },
  {
   "cell_type": "markdown",
   "metadata": {},
   "source": [
    "The above calculations shows that the expectation values for the gates on both qubits of bell's state are:\n",
    "\n",
    "**X = 1**\n",
    "\n",
    "**Y = -1**\n",
    "\n",
    "**Z = 1**\n",
    "\n",
    "These values matches the values given by both our simulators 🎉🎉🎉."
   ]
  }
 ],
 "metadata": {
  "kernelspec": {
   "display_name": "Yolo_v5",
   "language": "python",
   "name": "python3"
  },
  "language_info": {
   "codemirror_mode": {
    "name": "ipython",
    "version": 3
   },
   "file_extension": ".py",
   "mimetype": "text/x-python",
   "name": "python",
   "nbconvert_exporter": "python",
   "pygments_lexer": "ipython3",
   "version": "3.8.12"
  }
 },
 "nbformat": 4,
 "nbformat_minor": 2
}
